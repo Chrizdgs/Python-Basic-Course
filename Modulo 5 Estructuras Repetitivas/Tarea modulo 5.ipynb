{
 "cells": [
  {
   "cell_type": "code",
   "execution_count": null,
   "metadata": {},
   "outputs": [],
   "source": []
  }
 ],
 "metadata": {
  "kernelspec": {
   "display_name": "Python 3",
   "language": "python",
   "name": "python3"
  },
  "language_info": {
   "name": "python",
   "version": "3.11.2"
  },
  "orig_nbformat": 4,
  "vscode": {
   "interpreter": {
    "hash": "367a3df738d52db5e028108a26a9b4e523bfcb434229588e5156d0c08f9d1c55"
   }
  }
 },
 "nbformat": 4,
 "nbformat_minor": 2
}
