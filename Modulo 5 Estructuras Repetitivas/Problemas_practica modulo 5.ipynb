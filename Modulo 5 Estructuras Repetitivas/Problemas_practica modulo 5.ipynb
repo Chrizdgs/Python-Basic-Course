{
 "cells": [
  {
   "attachments": {},
   "cell_type": "markdown",
   "metadata": {},
   "source": [
    "# PROBLEMAS DE PRÁCTICA\n",
    "Pruebe los problemas que se presentan a continuación."
   ]
  },
  {
   "attachments": {},
   "cell_type": "markdown",
   "metadata": {},
   "source": [
    "### Uso de while"
   ]
  },
  {
   "cell_type": "code",
   "execution_count": 8,
   "metadata": {},
   "outputs": [
    {
     "name": "stdout",
     "output_type": "stream",
     "text": [
      "1\n",
      "2\n",
      "3\n",
      "Fin del Programa\n"
     ]
    }
   ],
   "source": [
    "i=1\n",
    "while i <= 3:\n",
    "    print(i)\n",
    "    i = i + 1\n",
    "print(\"Fin del Programa\")"
   ]
  },
  {
   "cell_type": "code",
   "execution_count": 9,
   "metadata": {},
   "outputs": [
    {
     "name": "stdout",
     "output_type": "stream",
     "text": [
      "1\n",
      "2\n",
      "5\n",
      "Fin del Programa\n"
     ]
    }
   ],
   "source": [
    "i = 1\n",
    "while i < 12:\n",
    "    print(i)\n",
    "    i = i * i + 1 \n",
    "print(\"Fin del Programa\")"
   ]
  },
  {
   "cell_type": "code",
   "execution_count": 10,
   "metadata": {},
   "outputs": [
    {
     "name": "stdout",
     "output_type": "stream",
     "text": [
      "Promedio de notas: 87.5\n"
     ]
    }
   ],
   "source": [
    "promedio, total, contar = 0.0, 0, 0\n",
    "mensaje = \"Introduzca la nota de un estudiante (-1 para salir): \"\n",
    "respuesta = int(input(mensaje))\n",
    "\n",
    "while respuesta != -1:\n",
    "    total = total + respuesta\n",
    "    contar = contar + 1\n",
    "    respuesta = int(input(mensaje))\n",
    "else:\n",
    "    promedio = total/contar\n",
    "    print(\"Promedio de notas: \"+str(promedio))"
   ]
  },
  {
   "cell_type": "code",
   "execution_count": 12,
   "metadata": {},
   "outputs": [
    {
     "name": "stdout",
     "output_type": "stream",
     "text": [
      "¡Ha escrito un número menor o igual a 10! Inténtelo de nuevo\n",
      "¡Ha escrito un número menor o igual a 10! Inténtelo de nuevo\n",
      "¡Ha escrito un número menor o igual a 10! Inténtelo de nuevo\n",
      "¡Ha escrito un número menor o igual a 10! Inténtelo de nuevo\n",
      "Gracias por su colaboración\n"
     ]
    }
   ],
   "source": [
    "num = int(input(\"Escriba un número  mayor a diez: \"))\n",
    "while num <= 10:\n",
    "    print(\"¡Ha escrito un número menor o igual a 10! Inténtelo de nuevo\")\n",
    "    num = int(input(\"Escriba un número mayor a diez: \"))\n",
    "print(\"Gracias por su colaboración\")"
   ]
  },
  {
   "attachments": {},
   "cell_type": "markdown",
   "metadata": {},
   "source": [
    "### Uso del for"
   ]
  },
  {
   "cell_type": "code",
   "execution_count": 13,
   "metadata": {},
   "outputs": [
    {
     "name": "stdout",
     "output_type": "stream",
     "text": [
      "mamey\n",
      "mango\n",
      "melon\n"
     ]
    }
   ],
   "source": [
    "frutas = ['mamey', 'mango', 'melon']\n",
    "for i in frutas:\n",
    "    print(i)"
   ]
  },
  {
   "cell_type": "code",
   "execution_count": 14,
   "metadata": {},
   "outputs": [
    {
     "name": "stdout",
     "output_type": "stream",
     "text": [
      "Inicio del Programa\n",
      "Bendiciones Bendiciones Bendiciones \n",
      "Fin del Programa\n"
     ]
    }
   ],
   "source": [
    "print(\"Inicio del Programa\")\n",
    "for i in [1, 1, 1]:\n",
    "    print(\"Bendiciones \", end=\"\")\n",
    "print()\n",
    "print(\"Fin del Programa\")"
   ]
  },
  {
   "cell_type": "code",
   "execution_count": 15,
   "metadata": {},
   "outputs": [
    {
     "name": "stdout",
     "output_type": "stream",
     "text": [
      "Inicio del Programa\n",
      "El valor de i es: 2 y su cuadrado:4\n",
      "El valor de i es: 4 y su cuadrado:16\n",
      "El valor de i es: 6 y su cuadrado:36\n",
      "Fin del Programa\n"
     ]
    }
   ],
   "source": [
    "print(\"Inicio del Programa\")\n",
    "for i in [2, 4, 6]:\n",
    "    print(f\"El valor de i es: {i} y su cuadrado:{i ** 2}\")\n",
    "print(\"Fin del Programa\")"
   ]
  },
  {
   "cell_type": "code",
   "execution_count": 16,
   "metadata": {},
   "outputs": [
    {
     "name": "stdout",
     "output_type": "stream",
     "text": [
      "Inicio del Programa\n",
      "Valores de la lista. Ahora e toma el valor de José\n",
      "Valores de la lista. Ahora e toma el valor de Barbara\n",
      "Valores de la lista. Ahora e toma el valor de 2\n",
      "Fin del Programa\n"
     ]
    }
   ],
   "source": [
    "print(\"Inicio del Programa\")\n",
    "for e in [\"José\", \"Barbara\", 2]:\n",
    "    print(f\"Valores de la lista. Ahora e toma el valor de {e}\")\n",
    "print(\"Fin del Programa\")"
   ]
  },
  {
   "cell_type": "code",
   "execution_count": 17,
   "metadata": {},
   "outputs": [
    {
     "name": "stdout",
     "output_type": "stream",
     "text": [
      "Inicio del Programa\n",
      "Dame una P\n",
      "Dame una A\n",
      "Dame una N\n",
      "Dame una A\n",
      "Dame una M\n",
      "Dame una A\n",
      "¡PANAMA!\n"
     ]
    }
   ],
   "source": [
    "print(\"Inicio del Programa\")\n",
    "for i in \"PANAMA\":\n",
    "    print(f\"Dame una {i}\")\n",
    "print(\"¡PANAMA!\")"
   ]
  },
  {
   "attachments": {},
   "cell_type": "markdown",
   "metadata": {},
   "source": [
    "### Utilizando range"
   ]
  },
  {
   "cell_type": "code",
   "execution_count": 19,
   "metadata": {},
   "outputs": [
    {
     "name": "stdout",
     "output_type": "stream",
     "text": [
      "range(0, 5)\n"
     ]
    }
   ],
   "source": [
    "secuencia = range(5)\n",
    "print (secuencia)"
   ]
  },
  {
   "cell_type": "code",
   "execution_count": 20,
   "metadata": {},
   "outputs": [
    {
     "name": "stdout",
     "output_type": "stream",
     "text": [
      "[2, 3, 4, 5, 6, 7]\n"
     ]
    }
   ],
   "source": [
    "milista = list(range(2,8))\n",
    "print(milista)"
   ]
  },
  {
   "cell_type": "code",
   "execution_count": 2,
   "metadata": {},
   "outputs": [
    {
     "name": "stdout",
     "output_type": "stream",
     "text": [
      "[]\n"
     ]
    }
   ],
   "source": [
    "milista = list(range(10,4))\n",
    "print(milista)"
   ]
  },
  {
   "cell_type": "code",
   "execution_count": 3,
   "metadata": {},
   "outputs": [
    {
     "name": "stdout",
     "output_type": "stream",
     "text": [
      "[2, 6, 10]\n"
     ]
    }
   ],
   "source": [
    "milista = list(range(2,12,4))\n",
    "print(milista)"
   ]
  },
  {
   "cell_type": "code",
   "execution_count": 4,
   "metadata": {},
   "outputs": [
    {
     "name": "stdout",
     "output_type": "stream",
     "text": [
      "[15, 12, 9, 6, 3]\n"
     ]
    }
   ],
   "source": [
    "milista = list(range(15,1,-3))\n",
    "print(milista)"
   ]
  },
  {
   "cell_type": "code",
   "execution_count": 6,
   "metadata": {},
   "outputs": [
    {
     "name": "stdout",
     "output_type": "stream",
     "text": [
      "0\n",
      "1\n",
      "2\n",
      "3\n",
      "4\n",
      "5\n"
     ]
    }
   ],
   "source": [
    "for i in range(6):\n",
    "    print(i)"
   ]
  },
  {
   "cell_type": "code",
   "execution_count": 7,
   "metadata": {},
   "outputs": [
    {
     "name": "stdout",
     "output_type": "stream",
     "text": [
      "0\n",
      "1\n",
      "2\n",
      "3\n",
      "4\n",
      "5\n",
      "FIN DEL PROGRAMA\n"
     ]
    }
   ],
   "source": [
    "for i in range(6):\n",
    "    print(i)\n",
    "else:\n",
    "    print('FIN DEL PROGRAMA')"
   ]
  },
  {
   "attachments": {},
   "cell_type": "markdown",
   "metadata": {},
   "source": [
    "### Uso del break"
   ]
  },
  {
   "cell_type": "code",
   "execution_count": 8,
   "metadata": {},
   "outputs": [
    {
     "name": "stdout",
     "output_type": "stream",
     "text": [
      "8\n",
      "Numero positivo\n",
      "-2\n",
      "Numero negativo\n",
      "0\n",
      "Igual a 0\n",
      "-\n"
     ]
    }
   ],
   "source": [
    "while True:\n",
    "    x =input(\"Ingrese un numero ('-' para terminar): \")\n",
    "    print (x)\n",
    "    if x == '-':\n",
    "        break\n",
    "    elif x > '0':\n",
    "        print(\"Numero positivo\")\n",
    "    elif x == '0':\n",
    "        print(\"Igual a 0\")\n",
    "    elif x < '0':\n",
    "        print(\"Numero negativo\")"
   ]
  },
  {
   "cell_type": "code",
   "execution_count": 9,
   "metadata": {},
   "outputs": [
    {
     "name": "stdout",
     "output_type": "stream",
     "text": [
      "Letra actual : P\n",
      "Letra actual : y\n",
      "Letra actual : t\n",
      "Letra actual : h\n"
     ]
    }
   ],
   "source": [
    "for l in 'Python':\n",
    "    if l == 'o':\n",
    "        break\n",
    "    print('Letra actual :', l)"
   ]
  },
  {
   "attachments": {},
   "cell_type": "markdown",
   "metadata": {},
   "source": [
    "### Uso de continue"
   ]
  },
  {
   "cell_type": "code",
   "execution_count": 10,
   "metadata": {},
   "outputs": [
    {
     "name": "stdout",
     "output_type": "stream",
     "text": [
      "Letra actual : P\n",
      "Letra actual : y\n",
      "Letra actual : t\n",
      "Letra actual : o\n",
      "Letra actual : n\n"
     ]
    }
   ],
   "source": [
    "for letra in 'Python':\n",
    "    if letra == 'h':\n",
    "        continue\n",
    "    print('Letra actual :', letra)"
   ]
  },
  {
   "cell_type": "code",
   "execution_count": 11,
   "metadata": {},
   "outputs": [
    {
     "name": "stdout",
     "output_type": "stream",
     "text": [
      "0\n",
      "1\n",
      "3\n",
      "4\n"
     ]
    }
   ],
   "source": [
    "for i in range(5):\n",
    "    if i == 2:\n",
    "        continue\n",
    "    print(i)"
   ]
  }
 ],
 "metadata": {
  "kernelspec": {
   "display_name": "Python 3",
   "language": "python",
   "name": "python3"
  },
  "language_info": {
   "codemirror_mode": {
    "name": "ipython",
    "version": 3
   },
   "file_extension": ".py",
   "mimetype": "text/x-python",
   "name": "python",
   "nbconvert_exporter": "python",
   "pygments_lexer": "ipython3",
   "version": "3.11.2"
  },
  "orig_nbformat": 4,
  "vscode": {
   "interpreter": {
    "hash": "367a3df738d52db5e028108a26a9b4e523bfcb434229588e5156d0c08f9d1c55"
   }
  }
 },
 "nbformat": 4,
 "nbformat_minor": 2
}
