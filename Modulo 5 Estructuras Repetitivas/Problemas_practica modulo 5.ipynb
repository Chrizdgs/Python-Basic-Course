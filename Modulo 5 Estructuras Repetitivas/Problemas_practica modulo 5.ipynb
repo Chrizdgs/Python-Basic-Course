{
 "cells": [
  {
   "attachments": {},
   "cell_type": "markdown",
   "metadata": {},
   "source": [
    "# PROBLEMAS DE PRÁCTICA\n",
    "Pruebe los problemas que se presentan a continuación."
   ]
  },
  {
   "attachments": {},
   "cell_type": "markdown",
   "metadata": {},
   "source": [
    "### Uso de while"
   ]
  },
  {
   "cell_type": "code",
   "execution_count": 8,
   "metadata": {},
   "outputs": [
    {
     "name": "stdout",
     "output_type": "stream",
     "text": [
      "1\n",
      "2\n",
      "3\n",
      "Fin del Programa\n"
     ]
    }
   ],
   "source": [
    "i=1\n",
    "while i <= 3:\n",
    "    print(i)\n",
    "    i = i + 1\n",
    "print(\"Fin del Programa\")"
   ]
  },
  {
   "cell_type": "code",
   "execution_count": 9,
   "metadata": {},
   "outputs": [
    {
     "name": "stdout",
     "output_type": "stream",
     "text": [
      "1\n",
      "2\n",
      "5\n",
      "Fin del Programa\n"
     ]
    }
   ],
   "source": [
    "i = 1\n",
    "while i < 12:\n",
    "    print(i)\n",
    "    i = i * i + 1 \n",
    "print(\"Fin del Programa\")"
   ]
  },
  {
   "cell_type": "code",
   "execution_count": 10,
   "metadata": {},
   "outputs": [
    {
     "name": "stdout",
     "output_type": "stream",
     "text": [
      "Promedio de notas: 87.5\n"
     ]
    }
   ],
   "source": [
    "promedio, total, contar = 0.0, 0, 0\n",
    "mensaje = \"Introduzca la nota de un estudiante (-1 para salir): \"\n",
    "respuesta = int(input(mensaje))\n",
    "\n",
    "while respuesta != -1:\n",
    "    total = total + respuesta\n",
    "    contar = contar + 1\n",
    "    respuesta = int(input(mensaje))\n",
    "else:\n",
    "    promedio = total/contar\n",
    "    print(\"Promedio de notas: \"+str(promedio))"
   ]
  },
  {
   "cell_type": "code",
   "execution_count": 12,
   "metadata": {},
   "outputs": [
    {
     "name": "stdout",
     "output_type": "stream",
     "text": [
      "¡Ha escrito un número menor o igual a 10! Inténtelo de nuevo\n",
      "¡Ha escrito un número menor o igual a 10! Inténtelo de nuevo\n",
      "¡Ha escrito un número menor o igual a 10! Inténtelo de nuevo\n",
      "¡Ha escrito un número menor o igual a 10! Inténtelo de nuevo\n",
      "Gracias por su colaboración\n"
     ]
    }
   ],
   "source": [
    "num = int(input(\"Escriba un número  mayor a diez: \"))\n",
    "while num <= 10:\n",
    "    print(\"¡Ha escrito un número menor o igual a 10! Inténtelo de nuevo\")\n",
    "    num = int(input(\"Escriba un número mayor a diez: \"))\n",
    "print(\"Gracias por su colaboración\")"
   ]
  },
  {
   "attachments": {},
   "cell_type": "markdown",
   "metadata": {},
   "source": [
    "### Uso del for"
   ]
  },
  {
   "cell_type": "code",
   "execution_count": 13,
   "metadata": {},
   "outputs": [
    {
     "name": "stdout",
     "output_type": "stream",
     "text": [
      "mamey\n",
      "mango\n",
      "melon\n"
     ]
    }
   ],
   "source": [
    "frutas = ['mamey', 'mango', 'melon']\n",
    "for i in frutas:\n",
    "    print(i)"
   ]
  },
  {
   "cell_type": "code",
   "execution_count": 14,
   "metadata": {},
   "outputs": [
    {
     "name": "stdout",
     "output_type": "stream",
     "text": [
      "Inicio del Programa\n",
      "Bendiciones Bendiciones Bendiciones \n",
      "Fin del Programa\n"
     ]
    }
   ],
   "source": [
    "print(\"Inicio del Programa\")\n",
    "for i in [1, 1, 1]:\n",
    "    print(\"Bendiciones \", end=\"\")\n",
    "print()\n",
    "print(\"Fin del Programa\")"
   ]
  },
  {
   "cell_type": "code",
   "execution_count": 15,
   "metadata": {},
   "outputs": [
    {
     "name": "stdout",
     "output_type": "stream",
     "text": [
      "Inicio del Programa\n",
      "El valor de i es: 2 y su cuadrado:4\n",
      "El valor de i es: 4 y su cuadrado:16\n",
      "El valor de i es: 6 y su cuadrado:36\n",
      "Fin del Programa\n"
     ]
    }
   ],
   "source": [
    "print(\"Inicio del Programa\")\n",
    "for i in [2, 4, 6]:\n",
    "    print(f\"El valor de i es: {i} y su cuadrado:{i ** 2}\")\n",
    "print(\"Fin del Programa\")"
   ]
  },
  {
   "cell_type": "code",
   "execution_count": 16,
   "metadata": {},
   "outputs": [
    {
     "name": "stdout",
     "output_type": "stream",
     "text": [
      "Inicio del Programa\n",
      "Valores de la lista. Ahora e toma el valor de José\n",
      "Valores de la lista. Ahora e toma el valor de Barbara\n",
      "Valores de la lista. Ahora e toma el valor de 2\n",
      "Fin del Programa\n"
     ]
    }
   ],
   "source": [
    "print(\"Inicio del Programa\")\n",
    "for e in [\"José\", \"Barbara\", 2]:\n",
    "    print(f\"Valores de la lista. Ahora e toma el valor de {e}\")\n",
    "print(\"Fin del Programa\")"
   ]
  },
  {
   "cell_type": "code",
   "execution_count": 17,
   "metadata": {},
   "outputs": [
    {
     "name": "stdout",
     "output_type": "stream",
     "text": [
      "Inicio del Programa\n",
      "Dame una P\n",
      "Dame una A\n",
      "Dame una N\n",
      "Dame una A\n",
      "Dame una M\n",
      "Dame una A\n",
      "¡PANAMA!\n"
     ]
    }
   ],
   "source": [
    "print(\"Inicio del Programa\")\n",
    "for i in \"PANAMA\":\n",
    "    print(f\"Dame una {i}\")\n",
    "print(\"¡PANAMA!\")"
   ]
  },
  {
   "attachments": {},
   "cell_type": "markdown",
   "metadata": {},
   "source": [
    "### Utilizando range"
   ]
  },
  {
   "cell_type": "code",
   "execution_count": 19,
   "metadata": {},
   "outputs": [
    {
     "name": "stdout",
     "output_type": "stream",
     "text": [
      "range(0, 5)\n"
     ]
    }
   ],
   "source": [
    "secuencia = range(5)\n",
    "print (secuencia)"
   ]
  },
  {
   "cell_type": "code",
   "execution_count": 20,
   "metadata": {},
   "outputs": [
    {
     "name": "stdout",
     "output_type": "stream",
     "text": [
      "[2, 3, 4, 5, 6, 7]\n"
     ]
    }
   ],
   "source": [
    "milista = list(range(2,8))\n",
    "print(milista)"
   ]
  },
  {
   "cell_type": "code",
   "execution_count": 21,
   "metadata": {},
   "outputs": [
    {
     "name": "stdout",
     "output_type": "stream",
     "text": [
      "[]\n"
     ]
    }
   ],
   "source": [
    "milista = list(range(10,4))\n",
    "print(milista)"
   ]
  },
  {
   "cell_type": "code",
   "execution_count": null,
   "metadata": {},
   "outputs": [],
   "source": []
  }
 ],
 "metadata": {
  "kernelspec": {
   "display_name": "Python 3",
   "language": "python",
   "name": "python3"
  },
  "language_info": {
   "codemirror_mode": {
    "name": "ipython",
    "version": 3
   },
   "file_extension": ".py",
   "mimetype": "text/x-python",
   "name": "python",
   "nbconvert_exporter": "python",
   "pygments_lexer": "ipython3",
   "version": "3.11.2"
  },
  "orig_nbformat": 4,
  "vscode": {
   "interpreter": {
    "hash": "367a3df738d52db5e028108a26a9b4e523bfcb434229588e5156d0c08f9d1c55"
   }
  }
 },
 "nbformat": 4,
 "nbformat_minor": 2
}
