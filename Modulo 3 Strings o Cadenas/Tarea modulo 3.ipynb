{
 "cells": [
  {
   "attachments": {},
   "cell_type": "markdown",
   "metadata": {},
   "source": [
    "# TAREA\n",
    "Desarrolle los programas en Python para cada uno de los problemas que se\n",
    "presentan a continuación."
   ]
  },
  {
   "attachments": {},
   "cell_type": "markdown",
   "metadata": {},
   "source": [
    "### 1. Escriba un programa para crear una nueva cadena compuesta por el primer carácter, el del medio y último carácter de una cadena introducida por el usuario."
   ]
  },
  {
   "cell_type": "code",
   "execution_count": 4,
   "metadata": {},
   "outputs": [
    {
     "name": "stdout",
     "output_type": "stream",
     "text": [
      "La nueva cadena es:  mao\n"
     ]
    }
   ],
   "source": [
    "def first_middle_last_char():\n",
    "    user_string = input(\"Ingrese una fra¿se: \") # Solicitar la entrada de la cadena al usuario\n",
    "    longitud = len(user_string) # Calcular la longitud de la cadena\n",
    "    if longitud % 2 == 0: # Determinar el carácter central\n",
    "        middle_char = user_string[longitud//2 - 1]\n",
    "    else:\n",
    "        middle_char = user_string[(longitud + 1)//2 - 1]\n",
    "    nueva_cadena = user_string[0] + middle_char + user_string[-1] # Concatenar la primera, el carácter central y el último carácter\n",
    "    print(\"La nueva cadena es: \", nueva_cadena) # Imprimir la nueva cadena\n",
    "\n",
    "first_middle_last_char()"
   ]
  },
  {
   "attachments": {},
   "cell_type": "markdown",
   "metadata": {},
   "source": [
    "### 2. Escriba un programa para crear una nueva cadena formada por los tres caracteres del medio de una cadena de entrada"
   ]
  },
  {
   "cell_type": "code",
   "execution_count": 6,
   "metadata": {},
   "outputs": [
    {
     "name": "stdout",
     "output_type": "stream",
     "text": [
      "Cadena resultante: sta\n"
     ]
    }
   ],
   "source": [
    "def middle_three_chars(string):\n",
    "  length = len(string)\n",
    "  if length < 3: # Si la longitud de la cadena es menor que 3, se devuelve una cadena vacía.\n",
    "    return \"\"\n",
    "  middle = length // 2\n",
    "  return string[middle - 1 : middle + 2] # se encuentra el índice del carácter del medio y se devuelve una subcadena que incluye los caracteres del medio y los dos caracteres adyacentes.\n",
    "\n",
    "input_string = input(\"Ingrese una cadena: \")\n",
    "result = middle_three_chars(input_string)\n",
    "print(\"Cadena resultante:\", result)"
   ]
  },
  {
   "attachments": {},
   "cell_type": "markdown",
   "metadata": {},
   "source": [
    "### 3. Dadas dos cadenas, s1 y s2. Escriba un programa para crear una nueva cadena s3 agregando s2 en medio de s1"
   ]
  },
  {
   "cell_type": "code",
   "execution_count": 8,
   "metadata": {},
   "outputs": [
    {
     "name": "stdout",
     "output_type": "stream",
     "text": [
      "La nueva cadena es: losperros dos\n"
     ]
    }
   ],
   "source": [
    "def añadir_medio(s1, s2):\n",
    "    return s1[:len(s1)//2] + s2 + s1[len(s1)//2:] # La posición en medio se calcula como la mitad de la longitud de s1 y se utiliza para partir s1 en dos partes, antes y después de s2. \n",
    "s1 = input(\"Ingrese la primera cadena: \")\n",
    "s2 = input(\"Ingrese la segunda cadena: \")\n",
    "s3 = añadir_medio(s1, s2)\n",
    "print(\"La nueva cadena es: \"+ s3)"
   ]
  },
  {
   "attachments": {},
   "cell_type": "markdown",
   "metadata": {},
   "source": [
    "### 4. Escriba un programa que solicite al usuario ingresar dos cadenas y el programa debe buscar si la segunda cadena es parte de la primera cadena."
   ]
  },
  {
   "cell_type": "code",
   "execution_count": 9,
   "metadata": {},
   "outputs": [
    {
     "name": "stdout",
     "output_type": "stream",
     "text": [
      "La segunda cadena es una subcadena de la primera cadena.\n"
     ]
    }
   ],
   "source": [
    "def cadena1_en_cadena2(s1, s2):\n",
    "    if s2 in s1:\n",
    "        print(\"La segunda cadena es una subcadena de la primera cadena.\")\n",
    "    else:\n",
    "        print(\"La segunda cadena no es una subcadena de la primera cadena.\")\n",
    "\n",
    "s1 = input(\"Ingrese la primera cadena: \")\n",
    "s2 = input(\"Ingrese la segunda cadena: \")\n",
    "\n",
    "cadena1_en_cadena2(s1, s2)"
   ]
  },
  {
   "attachments": {},
   "cell_type": "markdown",
   "metadata": {},
   "source": [
    "### 5. Escriba un programa que le solicite al usuario que ingrese una frase y un carácter que será utilizado para reemplazar los espacios en blanco que contiene la frase."
   ]
  },
  {
   "cell_type": "code",
   "execution_count": 10,
   "metadata": {},
   "outputs": [
    {
     "name": "stdout",
     "output_type": "stream",
     "text": [
      "La frase con espacios reemplazados es: mis-amigos-no-saben-escribir\n"
     ]
    }
   ],
   "source": [
    "frase = input(\"Ingrese una frase: \")\n",
    "caracter = input(\"Ingrese un caracter para reemplazar los espacios de la frase: \")\n",
    "\n",
    "nueva_frase = frase.replace(\" \", caracter)\n",
    "\n",
    "print(\"La frase con espacios reemplazados es: \"+ nueva_frase)"
   ]
  }
 ],
 "metadata": {
  "kernelspec": {
   "display_name": "Python 3",
   "language": "python",
   "name": "python3"
  },
  "language_info": {
   "codemirror_mode": {
    "name": "ipython",
    "version": 3
   },
   "file_extension": ".py",
   "mimetype": "text/x-python",
   "name": "python",
   "nbconvert_exporter": "python",
   "pygments_lexer": "ipython3",
   "version": "3.11.2"
  },
  "orig_nbformat": 4,
  "vscode": {
   "interpreter": {
    "hash": "367a3df738d52db5e028108a26a9b4e523bfcb434229588e5156d0c08f9d1c55"
   }
  }
 },
 "nbformat": 4,
 "nbformat_minor": 2
}
