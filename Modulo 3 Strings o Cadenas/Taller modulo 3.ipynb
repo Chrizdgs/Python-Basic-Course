{
 "cells": [
  {
   "attachments": {},
   "cell_type": "markdown",
   "metadata": {},
   "source": [
    "# TALLER\n",
    "Desarrolle los programas en Python para cada uno de los problemas que se\n",
    "presentan a continuación"
   ]
  },
  {
   "attachments": {},
   "cell_type": "markdown",
   "metadata": {},
   "source": [
    "### 1. Cree un programa que solicite al usuario ingresar una cadena y el programa de invertir la cadena"
   ]
  },
  {
   "cell_type": "code",
   "execution_count": null,
   "metadata": {},
   "outputs": [],
   "source": [
    "def invertir_cadena():\n",
    "    cadena = input(\"Ingrese una cadena: \")\n",
    "    # Invierte la cadena usando slicing\n",
    "    invertida = cadena[::-1]\n",
    "    # Imprime la cadena invertida\n",
    "    print(\"La cadena invertida es: \", invertida)\n",
    "\n",
    "if __name__ == \"__main__\":\n",
    "    invertir_cadena()"
   ]
  },
  {
   "attachments": {},
   "cell_type": "markdown",
   "metadata": {},
   "source": [
    "### 2. Cree un programa que pida una cadena y dos caracteres por teclado sustituye la aparición del primer carácter en la cadena por el segundo carácter."
   ]
  },
  {
   "cell_type": "code",
   "execution_count": 1,
   "metadata": {},
   "outputs": [
    {
     "name": "stdout",
     "output_type": "stream",
     "text": [
      "La cadena modificada es: hela hermane de elle\n"
     ]
    }
   ],
   "source": [
    "def sustituir_char():\n",
    "    cadena = input(\"Ingrese la cadena: \") # Pidiendo la cadena al usuario\n",
    "    \n",
    "    caracter1 = input(\"Ingrese el primer carácter: \")# Pidiendo los dos caracteres al usuario\n",
    "    caracter2 = input(\"Ingrese el segundo carácter: \")\n",
    "    \n",
    "    cadena_modificada = cadena.replace(caracter1, caracter2)# Sustituyendo la aparición del primer carácter por el segundo carácter\n",
    "    \n",
    "    print(\"La cadena modificada es:\", cadena_modificada)# Imprimiendo la cadena modificada\n",
    "if __name__ == \"__main__\":\n",
    "    sustituir_char()"
   ]
  },
  {
   "attachments": {},
   "cell_type": "markdown",
   "metadata": {},
   "source": [
    "### 3. Cree un programa que le solicite al usuario una cadena y un carácter y el programa debe escribir el carácter entre cada una de las letras de la cadena"
   ]
  },
  {
   "cell_type": "code",
   "execution_count": 2,
   "metadata": {},
   "outputs": [
    {
     "name": "stdout",
     "output_type": "stream",
     "text": [
      "Cadena con carácter intercalado: ezsztzaz zezsz zlzaz zczazdzeznza\n"
     ]
    }
   ],
   "source": [
    "def char_entre_cadena():\n",
    "    cadena = input(\"Ingrese uan cadena: \")\n",
    "    caracter = input(\"Ingrese un carácter: \")\n",
    "    \n",
    "    nueva_cadena = caracter.join([letra for letra in cadena]) #Iterar sobre cada letra en la cadena original (for letra in cadena)\n",
    "    \n",
    "    print(\"Cadena con carácter intercalado: \"+nueva_cadena)\n",
    "    \n",
    "char_entre_cadena()"
   ]
  },
  {
   "cell_type": "code",
   "execution_count": 6,
   "metadata": {},
   "outputs": [
    {
     "name": "stdout",
     "output_type": "stream",
     "text": [
      "hxoxlxax xmxuxnxdxox\n"
     ]
    }
   ],
   "source": [
    "cadena = input(\"Ingrese: \")\n",
    "caracter = \"x\"\n",
    "nueva_cadena =\"\"\n",
    "\n",
    "for letra in cadena:\n",
    "    nueva_cadena = nueva_cadena+letra+caracter\n",
    "\n",
    "print(nueva_cadena)"
   ]
  },
  {
   "cell_type": "code",
   "execution_count": 3,
   "metadata": {},
   "outputs": [
    {
     "name": "stdout",
     "output_type": "stream",
     "text": [
      "h*o*l*a* *a*m*i*g*o\n"
     ]
    }
   ],
   "source": [
    "cadena = input(\"Ingrese una cadena:\")\n",
    "c1 = input(\"Ingresar caracter:\")\n",
    "\n",
    "print(cadena.replace(\"\",c1)[1:-1])"
   ]
  },
  {
   "attachments": {},
   "cell_type": "markdown",
   "metadata": {},
   "source": [
    "### 4. Cree un programa que solicite al usuario ingresar una frase y el programa debe convertir a mayúscula la primera letra de cada palabra."
   ]
  },
  {
   "cell_type": "code",
   "execution_count": 4,
   "metadata": {},
   "outputs": [
    {
     "name": "stdout",
     "output_type": "stream",
     "text": [
      "Frase con las primeras letras mayúsculas:  Yo Quiero Viajar A España\n"
     ]
    }
   ],
   "source": [
    "def mayuscula_primer_letra_de_frase(frase):\n",
    "    palabras = frase.split() #divide en palabras utilizando el método split\n",
    "    palabras_mayuscula = [palabra.capitalize() for palabra in palabras]\n",
    "    frase_mayuscula = ' '.join(palabras_mayuscula)\n",
    "    return frase_mayuscula\n",
    "#La lista cpalabras_mayuscula contiene cada palabra capitalizada utilizando el método capitalize(). Finalmente, se une nuevamente la frase utilizando el método join() y se retorna el resultado.\n",
    "\n",
    "frase = input(\"Ingrese una frase: \") #pide al usuario que ingrese una frase y la guarda en la variable\n",
    "resultado = mayuscula_primer_letra_de_frase(frase)\n",
    "print(\"Frase con las primeras letras mayúsculas: \",resultado)"
   ]
  }
 ],
 "metadata": {
  "kernelspec": {
   "display_name": "Python 3",
   "language": "python",
   "name": "python3"
  },
  "language_info": {
   "codemirror_mode": {
    "name": "ipython",
    "version": 3
   },
   "file_extension": ".py",
   "mimetype": "text/x-python",
   "name": "python",
   "nbconvert_exporter": "python",
   "pygments_lexer": "ipython3",
   "version": "3.11.2"
  },
  "orig_nbformat": 4,
  "vscode": {
   "interpreter": {
    "hash": "367a3df738d52db5e028108a26a9b4e523bfcb434229588e5156d0c08f9d1c55"
   }
  }
 },
 "nbformat": 4,
 "nbformat_minor": 2
}
