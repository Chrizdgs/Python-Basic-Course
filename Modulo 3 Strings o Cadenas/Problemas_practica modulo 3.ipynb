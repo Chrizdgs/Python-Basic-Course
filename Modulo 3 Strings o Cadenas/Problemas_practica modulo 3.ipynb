{
 "cells": [
  {
   "attachments": {},
   "cell_type": "markdown",
   "metadata": {},
   "source": [
    "# PROBLEMAS DE PRÁCTICA\n",
    "Pruebe los problemas que se presentan a continuación."
   ]
  },
  {
   "attachments": {},
   "cell_type": "markdown",
   "metadata": {},
   "source": [
    "## Operaciones con Cadenas"
   ]
  },
  {
   "attachments": {},
   "cell_type": "markdown",
   "metadata": {},
   "source": [
    "### Concatenación de Cadenas"
   ]
  },
  {
   "cell_type": "code",
   "execution_count": 1,
   "metadata": {},
   "outputs": [
    {
     "name": "stdout",
     "output_type": "stream",
     "text": [
      "Nombre Completo: José Paz\n"
     ]
    }
   ],
   "source": [
    "nombre = \"José\"\n",
    "apellido = \"Paz\"\n",
    "nombrecompleto = nombre+\" \"+apellido\n",
    "print(\"Nombre Completo:\", nombrecompleto)"
   ]
  },
  {
   "cell_type": "code",
   "execution_count": 3,
   "metadata": {},
   "outputs": [
    {
     "name": "stdout",
     "output_type": "stream",
     "text": [
      "Chris tiene 24 años de edad\n"
     ]
    }
   ],
   "source": [
    "edad = int(input(\"Ingrese su edad:\"))\n",
    "nombre = input(\"Ingrese su nombre:\")\n",
    "mensaje = nombre+\" \"+\"tiene \"+str(edad)+\" años de edad\"\n",
    "\n",
    "print(mensaje)"
   ]
  },
  {
   "cell_type": "code",
   "execution_count": 4,
   "metadata": {},
   "outputs": [
    {
     "name": "stdout",
     "output_type": "stream",
     "text": [
      "Bienvenido Chris\n"
     ]
    }
   ],
   "source": [
    "nombre = input(\"Ingrese su nombre:\")\n",
    "frase = 'Bienvenido'\n",
    "frase += \" \"\n",
    "frase += nombre\n",
    "print(frase)"
   ]
  },
  {
   "attachments": {},
   "cell_type": "markdown",
   "metadata": {},
   "source": [
    "### Replicando una cadena"
   ]
  },
  {
   "cell_type": "code",
   "execution_count": 5,
   "metadata": {},
   "outputs": [
    {
     "name": "stdout",
     "output_type": "stream",
     "text": [
      "JEJEJEJEJE\n"
     ]
    }
   ],
   "source": [
    "cadena = input(\"Ingrese una cadena:\")\n",
    "cantidad = int(input(\"Ingrese la cantidad de replicas:\"))\n",
    "\n",
    "print(cadena*cantidad)"
   ]
  },
  {
   "attachments": {},
   "cell_type": "markdown",
   "metadata": {},
   "source": [
    "### Operaciones de Formateo"
   ]
  },
  {
   "attachments": {},
   "cell_type": "markdown",
   "metadata": {},
   "source": [
    "Formateo de Título"
   ]
  },
  {
   "cell_type": "code",
   "execution_count": 6,
   "metadata": {},
   "outputs": [
    {
     "name": "stdout",
     "output_type": "stream",
     "text": [
      "El Coronel No Tiene Quien Le Escriba\n"
     ]
    }
   ],
   "source": [
    "cadena = \"el coronel no tiene quien le escriba\"\n",
    "#Convierte a formato de Título\n",
    "print(cadena.title())"
   ]
  },
  {
   "cell_type": "code",
   "execution_count": 7,
   "metadata": {},
   "outputs": [
    {
     "name": "stdout",
     "output_type": "stream",
     "text": [
      "El coronel no tiene quien le escriba\n"
     ]
    }
   ],
   "source": [
    "cadena = \"el coronel no tiene quien le escriba\"\n",
    "#Convierte a formato de Título\n",
    "print(cadena.capitalize())"
   ]
  },
  {
   "cell_type": "code",
   "execution_count": 8,
   "metadata": {},
   "outputs": [
    {
     "name": "stdout",
     "output_type": "stream",
     "text": [
      "EL CORONEL NO TIENE QUIEN LE ESCRIBA\n",
      "el coronel no tiene quien le escriba\n"
     ]
    }
   ],
   "source": [
    "cadena = \"el coronel no tiene quien le escriba\"\n",
    "# Se transforma la cadena a mayúscula\n",
    "cadena = cadena.upper()\n",
    "print(cadena)\n",
    "\n",
    "# Se imprime la cadena en minúscula\n",
    "print(cadena.lower())"
   ]
  },
  {
   "cell_type": "code",
   "execution_count": 9,
   "metadata": {},
   "outputs": [
    {
     "name": "stdout",
     "output_type": "stream",
     "text": [
      "el coronel no tiene quien le escriba\n"
     ]
    }
   ],
   "source": [
    "cadena=\"EL CORONEL NO TIENE QUIEN LE ESCRIBA\"\n",
    "print(cadena.casefold())"
   ]
  },
  {
   "cell_type": "code",
   "execution_count": 10,
   "metadata": {},
   "outputs": [
    {
     "name": "stdout",
     "output_type": "stream",
     "text": [
      "       PANAMA       \n"
     ]
    }
   ],
   "source": [
    "cadena=\"PANAMA\"\n",
    "print(cadena.center(20))"
   ]
  },
  {
   "cell_type": "code",
   "execution_count": 11,
   "metadata": {},
   "outputs": [
    {
     "name": "stdout",
     "output_type": "stream",
     "text": [
      "*****************EL CORONEL NO TIENE QUIEN LE ESCRIBA*****************\n"
     ]
    }
   ],
   "source": [
    "cadena=\"EL CORONEL NO TIENE QUIEN LE ESCRIBA\"\n",
    "#Tomando el largo dado ubica la cadena en el centro y los demás lo rellena con el carácter.\n",
    "print(cadena.center(70, '*'))"
   ]
  },
  {
   "cell_type": "code",
   "execution_count": 12,
   "metadata": {},
   "outputs": [
    {
     "name": "stdout",
     "output_type": "stream",
     "text": [
      "EL CORONEL NO TIENE QUIEN LE ESCRIBA****\n",
      "****EL CORONEL NO TIENE QUIEN LE ESCRIBA\n"
     ]
    }
   ],
   "source": [
    "cadena=\"EL CORONEL NO TIENE QUIEN LE ESCRIBA\"\n",
    "#Alinea hacia la izquierda la cadena y las posiciones siguientes las rellena con el caracter.\n",
    "print( cadena.ljust(40,'*'))\n",
    "#Alinea hacia la derecha la cadena y las posiciones previas las rellena con el carácter.\n",
    "print( cadena.rjust(40,'*'))"
   ]
  },
  {
   "cell_type": "code",
   "execution_count": 13,
   "metadata": {},
   "outputs": [
    {
     "name": "stdout",
     "output_type": "stream",
     "text": [
      "001575\n"
     ]
    }
   ],
   "source": [
    "monto = 1575\n",
    "#Si el número no ocupa todas las posiciones las posiciones disponibles a la izquierda las rellena con ceros\n",
    "print (str(monto).zfill(6))"
   ]
  },
  {
   "attachments": {},
   "cell_type": "markdown",
   "metadata": {},
   "source": [
    "### Busquedas en Cadenas"
   ]
  },
  {
   "cell_type": "code",
   "execution_count": 15,
   "metadata": {},
   "outputs": [
    {
     "name": "stdout",
     "output_type": "stream",
     "text": [
      "3\n"
     ]
    }
   ],
   "source": [
    "frase = \"Panamá puente del mundo\"\n",
    "print(frase.count(\"n\"))"
   ]
  },
  {
   "cell_type": "code",
   "execution_count": 16,
   "metadata": {},
   "outputs": [
    {
     "name": "stdout",
     "output_type": "stream",
     "text": [
      "14\n",
      "-1\n"
     ]
    }
   ],
   "source": [
    "frase = \"Panamá puente del mundo\"\n",
    "print(frase.find(\"del\"))\n",
    "print(frase.find(\"del\",0,10))# Si no encuentra la cadena devuelve -1"
   ]
  },
  {
   "cell_type": "code",
   "execution_count": 17,
   "metadata": {},
   "outputs": [
    {
     "name": "stdout",
     "output_type": "stream",
     "text": [
      "True\n"
     ]
    }
   ],
   "source": [
    "frase = \"Panama puente del mundo\"\n",
    "print(\"ama\" in frase)"
   ]
  },
  {
   "cell_type": "code",
   "execution_count": 18,
   "metadata": {},
   "outputs": [
    {
     "name": "stdout",
     "output_type": "stream",
     "text": [
      "amá se encuentra en: Panamá puente del mundo\n"
     ]
    }
   ],
   "source": [
    "frase = \"Panamá puente del mundo\"\n",
    "if 'amá' in frase:\n",
    "    print(\"amá se encuentra en:\",frase)"
   ]
  },
  {
   "cell_type": "code",
   "execution_count": 19,
   "metadata": {},
   "outputs": [
    {
     "name": "stdout",
     "output_type": "stream",
     "text": [
      "True\n"
     ]
    }
   ],
   "source": [
    "rase = \"Panama puente del mundo\"\n",
    "print(\"cama\" not in frase)"
   ]
  },
  {
   "cell_type": "code",
   "execution_count": 20,
   "metadata": {},
   "outputs": [
    {
     "name": "stdout",
     "output_type": "stream",
     "text": [
      "cama no se encuentra en: Panamá puente del mundo\n"
     ]
    }
   ],
   "source": [
    "frase = \"Panamá puente del mundo\"\n",
    "if 'cama' not in frase:\n",
    "    print(\"cama no se encuentra en:\",frase)"
   ]
  },
  {
   "cell_type": "code",
   "execution_count": 21,
   "metadata": {},
   "outputs": [
    {
     "name": "stdout",
     "output_type": "stream",
     "text": [
      "namá pu\n"
     ]
    }
   ],
   "source": [
    "cadena = \"Panamá puente del mundo\"\n",
    "print(cadena[2:9])"
   ]
  },
  {
   "cell_type": "code",
   "execution_count": 22,
   "metadata": {},
   "outputs": [
    {
     "name": "stdout",
     "output_type": "stream",
     "text": [
      "Panamá pu\n"
     ]
    }
   ],
   "source": [
    "cadena = \"Panamá puente del mundo\"\n",
    "print(cadena[:9]) # Cortando desde el inicio hasta la posición 9"
   ]
  },
  {
   "cell_type": "code",
   "execution_count": 23,
   "metadata": {},
   "outputs": [
    {
     "name": "stdout",
     "output_type": "stream",
     "text": [
      "ente del mundo\n"
     ]
    }
   ],
   "source": [
    "cadena = \"Panamá puente del mundo\"\n",
    "print(cadena[9:]) # Cortando a partir de la posición 9 hasta el final"
   ]
  },
  {
   "cell_type": "code",
   "execution_count": 24,
   "metadata": {},
   "outputs": [
    {
     "name": "stdout",
     "output_type": "stream",
     "text": [
      "del mu\n"
     ]
    }
   ],
   "source": [
    "cadena = \"Panama puente del mundo\"\n",
    "print(cadena[-9:-3])"
   ]
  }
 ],
 "metadata": {
  "kernelspec": {
   "display_name": "Python 3",
   "language": "python",
   "name": "python3"
  },
  "language_info": {
   "codemirror_mode": {
    "name": "ipython",
    "version": 3
   },
   "file_extension": ".py",
   "mimetype": "text/x-python",
   "name": "python",
   "nbconvert_exporter": "python",
   "pygments_lexer": "ipython3",
   "version": "3.11.2"
  },
  "orig_nbformat": 4,
  "vscode": {
   "interpreter": {
    "hash": "367a3df738d52db5e028108a26a9b4e523bfcb434229588e5156d0c08f9d1c55"
   }
  }
 },
 "nbformat": 4,
 "nbformat_minor": 2
}
