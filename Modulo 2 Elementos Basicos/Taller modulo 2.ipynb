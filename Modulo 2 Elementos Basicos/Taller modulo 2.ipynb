{
 "cells": [
  {
   "attachments": {},
   "cell_type": "markdown",
   "metadata": {},
   "source": [
    "# TALLER\n",
    "Desarrolle los problemas que presentamos a continuación."
   ]
  },
  {
   "attachments": {},
   "cell_type": "markdown",
   "metadata": {},
   "source": [
    "### 1. Elabore un programa que permita ingresar el número de partidos ganados, perdidos y empatados, por el ABC club en el torneo apertura, se debe de mostrar su puntaje total, teniendo en cuenta que por cada partido ganado obtendrá 3 puntos, empatado 1 punto y perdido 0 puntos."
   ]
  },
  {
   "cell_type": "code",
   "execution_count": 2,
   "metadata": {},
   "outputs": [
    {
     "name": "stdout",
     "output_type": "stream",
     "text": [
      "El puntaje total del club ABC en el torneo apertura es de: 12 puntos\n",
      "Ganados: 3 juegos\n",
      "Perdidos: 1 juegos\n",
      "Empatados: 3 juegos\n"
     ]
    }
   ],
   "source": [
    "ganados = int(input(\"Ingrese el número de partidos ganados: \")) # Variables para almacenar el número de partidos ganados, perdidos y empatados\n",
    "perdidos = int(input(\"Ingrese el número de partidos perdidos: \"))\n",
    "empatados = int(input(\"Ingrese el número de partidos empatados: \"))\n",
    "\n",
    "puntaje = (ganados * 3) + empatados # Cálculo del puntaje total\n",
    "\n",
    "print(\"El puntaje total del club ABC en el torneo apertura es de:\", puntaje, \"puntos\") # Mostrar resultado\n",
    "print(\"Ganados: \"+str(ganados)+\" juegos\")\n",
    "print(\"Perdidos: \"+str(perdidos)+\" juegos\")\n",
    "print(\"Empatados: \"+str(empatados)+\" juegos\")"
   ]
  },
  {
   "attachments": {},
   "cell_type": "markdown",
   "metadata": {},
   "source": [
    "### 2. Construya un programa que dado como datos la base y la altura de un rectángulo, calcule el perímetro y la superficie de este.\n",
    "### Superficie = Base * Altura\n",
    "### Perimetro = 2 * (Base + Altura)"
   ]
  },
  {
   "cell_type": "code",
   "execution_count": 2,
   "metadata": {},
   "outputs": [
    {
     "name": "stdout",
     "output_type": "stream",
     "text": [
      "La superficie del triangulo es 32.86cm y su perimetro es 23.0cm\n"
     ]
    }
   ],
   "source": [
    "base_triangulo = float(input(\"Ingrese la base del triangulo en cm: \"))\n",
    "altura_triangulo = float(input(\"Ingrese la altura del triangulo en cm:\"))\n",
    "\n",
    "superficie_triangulo = base_triangulo * altura_triangulo\n",
    "perimetro_triangulo = 2 * (base_triangulo + altura_triangulo)\n",
    "\n",
    "print(\"La superficie del triangulo es \"+str(superficie_triangulo)+\"cm y su perimetro es \"+str(perimetro_triangulo)+\"cm\")"
   ]
  },
  {
   "attachments": {},
   "cell_type": "markdown",
   "metadata": {},
   "source": [
    "### 3. Dado el tiempo en segundos (t) y la distancia en metros (d) de un automóvil, ingresados por teclado, calcule la velocidad correspondiente.\n",
    "### v=d/t"
   ]
  },
  {
   "cell_type": "code",
   "execution_count": 5,
   "metadata": {},
   "outputs": [
    {
     "name": "stdout",
     "output_type": "stream",
     "text": [
      "La velocidad del automovil es 74.42 m/s\n"
     ]
    }
   ],
   "source": [
    "distancia = float(input(\"Ingrese la distancia, en metros, de un automovil: \"))\n",
    "tiempo =  float(input(\"Ingrese el tiempo, en segundos, para que el automovil recorra la distancia anterior: \"))\n",
    "\n",
    "velocidad = distancia / tiempo\n",
    "\n",
    "print(\"La velocidad del automovil es %.2f m/s\" %velocidad)"
   ]
  },
  {
   "attachments": {},
   "cell_type": "markdown",
   "metadata": {},
   "source": [
    "### 4. Se desea un programa que dado dos números enteros A y B calcule el resultado de una expresión.\n",
    "### Expresion = (A+B) **(2/3)"
   ]
  },
  {
   "cell_type": "code",
   "execution_count": 8,
   "metadata": {},
   "outputs": [
    {
     "name": "stdout",
     "output_type": "stream",
     "text": [
      "Segun los valores ingresados el resultado para (A+B)^(2/3) es 2.92\n"
     ]
    }
   ],
   "source": [
    "num_A = int(input(\"Ingrese el valor para A: \"))\n",
    "num_B = int(input(\"Ingrese el valor para B: \"))\n",
    "\n",
    "expresion = (num_A + num_B)**(2/3)\n",
    "\n",
    "print(\"Segun los valores ingresados el resultado para (A+B)^(2/3) es %.2f\" %expresion)"
   ]
  },
  {
   "attachments": {},
   "cell_type": "markdown",
   "metadata": {},
   "source": [
    "### 5. Escriba un programa que pida el peso (en kilogramos) y la altura (en metros) de una persona y que calcule su índice de masa corporal (imc).\n",
    "### Se recuerda que el imc se calcula con la fórmula imc = peso / altura ** 2"
   ]
  },
  {
   "cell_type": "code",
   "execution_count": 9,
   "metadata": {},
   "outputs": [
    {
     "name": "stdout",
     "output_type": "stream",
     "text": [
      "Su IMC es 21.22 kg/m^2\n"
     ]
    }
   ],
   "source": [
    "kilogramos = float(input(\"Ingrese su peso en kilogramos: \"))\n",
    "altura = float(input(\"Ingrese su altura en metros: \"))\n",
    "\n",
    "imc = kilogramos/(altura)**2\n",
    "\n",
    "print(\"Su IMC es %.2f kg/m^2\" %imc)"
   ]
  }
 ],
 "metadata": {
  "kernelspec": {
   "display_name": "Python 3",
   "language": "python",
   "name": "python3"
  },
  "language_info": {
   "codemirror_mode": {
    "name": "ipython",
    "version": 3
   },
   "file_extension": ".py",
   "mimetype": "text/x-python",
   "name": "python",
   "nbconvert_exporter": "python",
   "pygments_lexer": "ipython3",
   "version": "3.11.2"
  },
  "orig_nbformat": 4,
  "vscode": {
   "interpreter": {
    "hash": "367a3df738d52db5e028108a26a9b4e523bfcb434229588e5156d0c08f9d1c55"
   }
  }
 },
 "nbformat": 4,
 "nbformat_minor": 2
}
