{
 "cells": [
  {
   "attachments": {},
   "cell_type": "markdown",
   "metadata": {},
   "source": [
    "# TAREA\n",
    "Desarrolle los problemas que presentamos a continuación."
   ]
  },
  {
   "attachments": {},
   "cell_type": "markdown",
   "metadata": {},
   "source": [
    "### 1. Se requiere que elabore un programa para calcular el salario de un empleado. Para ello debe solicitar al usuario que ingrese las horas laboradas en el mes, así como la tarifa por hora. El programa debe calcular el salario a pagar y debe imprimirlo"
   ]
  },
  {
   "cell_type": "code",
   "execution_count": 2,
   "metadata": {},
   "outputs": [
    {
     "name": "stdout",
     "output_type": "stream",
     "text": [
      "Su salario es $4500.00 balboas\n"
     ]
    }
   ],
   "source": [
    "horas_mes = float(input(\"Ingrese sus horas trabajadas del mes: \"))\n",
    "tarifa_hora = float(input(\"Ingrese la tarifa por hora: \"))\n",
    "\n",
    "salario = horas_mes * tarifa_hora\n",
    "\n",
    "print(\"Su salario es $%.2f balboas\" %salario)"
   ]
  },
  {
   "attachments": {},
   "cell_type": "markdown",
   "metadata": {},
   "source": [
    "### 2. Suponga que un individuo desea invertir su capital en un banco y desea saber cuánto dinero ganara después de un mes si el banco paga a razón de 2% mensual en intereses. El programa debe realizar el cálculo de la ganancia e imprimirlo por pantalla."
   ]
  },
  {
   "cell_type": "code",
   "execution_count": 3,
   "metadata": {},
   "outputs": [
    {
     "name": "stdout",
     "output_type": "stream",
     "text": [
      "La ganancia al 2%, después de un mes es: 1224.0\n"
     ]
    }
   ],
   "source": [
    "capital = float(input(\"Ingrese el capital que desea invertir: \"))\n",
    "\n",
    "interes = capital * 0.02 #Se calcula el interés\n",
    "ganancia = capital + interes #Se suma el interés al capital\n",
    "\n",
    "print(\"La ganancia al 2%, después de un mes es:\", ganancia) # Se imprime la ganancia"
   ]
  },
  {
   "attachments": {},
   "cell_type": "markdown",
   "metadata": {},
   "source": [
    "### 3. Realice un programa que convierta millas a kilómetros. Se sabe que una milla equivale a 1.609344 kilómetros."
   ]
  },
  {
   "cell_type": "code",
   "execution_count": 4,
   "metadata": {},
   "outputs": [
    {
     "name": "stdout",
     "output_type": "stream",
     "text": [
      "La conversión en kilómetros es 95.60 km\n"
     ]
    }
   ],
   "source": [
    "millas = float(input(\"Ingrese las millas: \"))\n",
    "\n",
    "kilometro =  millas * 1.609344\n",
    "\n",
    "print(\"La conversión en kilómetros es %.2f km\" %kilometro)"
   ]
  },
  {
   "attachments": {},
   "cell_type": "markdown",
   "metadata": {},
   "source": [
    "### 4. Dado la velocidad de 2 cuerpos que se dirigen uno al encuentro de otro determinar el tiempo de encuentro si la distancia que los separa inicialmente es \"D\".\n",
    "##### va = velocidad del cuerpo a\n",
    "##### vb = velocidad del cuerpo b\n",
    "##### D = distancia que separa \"a\" de \"b\"\n",
    "##### te = d/(va+vb) "
   ]
  },
  {
   "cell_type": "code",
   "execution_count": 5,
   "metadata": {},
   "outputs": [
    {
     "name": "stdout",
     "output_type": "stream",
     "text": [
      "El tiempo de encuentro ente el cuerpo a y el cuerpo b es de 14.93 segundos.\n"
     ]
    }
   ],
   "source": [
    "velocidad_a = float(input(\"Ingrese la velocidad en m/s del cuerpo a: \"))\n",
    "velocidad_b = float(input(\"Ingrese la velocidad en m/s del cuerpo b: \"))\n",
    "distancia = float(input(\"Ingrese la distancia en m entre el cuerpo a y el cuerpo b: \"))\n",
    "\n",
    "tiempo_encuentro = distancia / (velocidad_a + velocidad_b)\n",
    "\n",
    "print(\"El tiempo de encuentro ente el cuerpo a y el cuerpo b es de %.2f segundos.\" %tiempo_encuentro)"
   ]
  },
  {
   "attachments": {},
   "cell_type": "markdown",
   "metadata": {},
   "source": [
    "### 5. Cree un programa que le pida al usuario que ingrese su nombre y su edad. El programa debe imprimir un mensaje que les indique cuantos años faltan para cumplir 100 años."
   ]
  },
  {
   "cell_type": "code",
   "execution_count": 6,
   "metadata": {},
   "outputs": [
    {
     "name": "stdout",
     "output_type": "stream",
     "text": [
      "Hola, Chris. Te faltan 76 años para cumplir 100.\n"
     ]
    }
   ],
   "source": [
    "nombre = input(\"Por favor ingrese su nombre: \")\n",
    "edad = int(input(\"Por favor ingrese su edad: \"))\n",
    "\n",
    "anos_restantes = 100 - edad # Calcular la cantidad de años que faltan para cumplir 100 años\n",
    "\n",
    "print(\"Hola, \" + nombre + \". Te faltan \" + str(anos_restantes) + \" años para cumplir 100.\")"
   ]
  }
 ],
 "metadata": {
  "kernelspec": {
   "display_name": "Python 3",
   "language": "python",
   "name": "python3"
  },
  "language_info": {
   "codemirror_mode": {
    "name": "ipython",
    "version": 3
   },
   "file_extension": ".py",
   "mimetype": "text/x-python",
   "name": "python",
   "nbconvert_exporter": "python",
   "pygments_lexer": "ipython3",
   "version": "3.11.2"
  },
  "orig_nbformat": 4,
  "vscode": {
   "interpreter": {
    "hash": "367a3df738d52db5e028108a26a9b4e523bfcb434229588e5156d0c08f9d1c55"
   }
  }
 },
 "nbformat": 4,
 "nbformat_minor": 2
}
