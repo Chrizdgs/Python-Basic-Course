{
 "cells": [
  {
   "attachments": {},
   "cell_type": "markdown",
   "metadata": {},
   "source": [
    "# PROBLEMAS DE PRÁCTICA\n",
    "Pruebe los problemas que se presentan a continuación."
   ]
  },
  {
   "attachments": {},
   "cell_type": "markdown",
   "metadata": {},
   "source": [
    "### Uso de If simple"
   ]
  },
  {
   "cell_type": "code",
   "execution_count": 1,
   "metadata": {},
   "outputs": [
    {
     "name": "stdout",
     "output_type": "stream",
     "text": [
      "Es mayor de edad\n"
     ]
    }
   ],
   "source": [
    "edad = int(input(\"Ingrese su edad:\"))\n",
    "\n",
    "if edad >= 18:\n",
    "    print(\"Es mayor de edad\")"
   ]
  },
  {
   "cell_type": "code",
   "execution_count": 2,
   "metadata": {},
   "outputs": [
    {
     "name": "stdout",
     "output_type": "stream",
     "text": [
      "Ingrese el puntaje obtenido en el examen\n",
      "Prueba Aprobada\n"
     ]
    }
   ],
   "source": [
    "print(\"Ingrese el puntaje obtenido en el examen\")\n",
    "puntaje = int(input())\n",
    "\n",
    "if puntaje > 80:\n",
    "    print(\"Prueba Aprobada\")"
   ]
  },
  {
   "attachments": {},
   "cell_type": "markdown",
   "metadata": {},
   "source": [
    "### Uso de If doble"
   ]
  },
  {
   "cell_type": "code",
   "execution_count": 3,
   "metadata": {},
   "outputs": [
    {
     "name": "stdout",
     "output_type": "stream",
     "text": [
      "Es menor de edad\n"
     ]
    }
   ],
   "source": [
    "edad = int(input(\"Ingrese su edad:\"))\n",
    "\n",
    "if edad >= 18:\n",
    "    print(\"Es mayor de edad\")\n",
    "else:\n",
    "    print(\"Es menor de edad\")"
   ]
  },
  {
   "cell_type": "code",
   "execution_count": 4,
   "metadata": {},
   "outputs": [
    {
     "name": "stdout",
     "output_type": "stream",
     "text": [
      "Ingrese el puntaje obtenido en el examen\n",
      "Prueba Reprobada\n"
     ]
    }
   ],
   "source": [
    "print(\"Ingrese el puntaje obtenido en el examen\")\n",
    "puntaje = int(input())\n",
    "\n",
    "if puntaje > 80:\n",
    "    mensaje = \"Prueba Aprobada\"\n",
    "else:\n",
    "    mensaje = \"Prueba Reprobada\"\n",
    "\n",
    "print(mensaje)"
   ]
  },
  {
   "attachments": {},
   "cell_type": "markdown",
   "metadata": {},
   "source": [
    "### Uso de If anidado"
   ]
  },
  {
   "cell_type": "code",
   "execution_count": 7,
   "metadata": {},
   "outputs": [
    {
     "name": "stdout",
     "output_type": "stream",
     "text": [
      "Es adulto\n"
     ]
    }
   ],
   "source": [
    "edad = int(input(\"Ingrese su edad:\"))\n",
    "\n",
    "if edad >= 18:\n",
    "    print(\"Es adulto\")\n",
    "elif 11 <= edad < 18:\n",
    "    print(\"Es adolecente\")\n",
    "else:\n",
    "    print(\"Es niño\")"
   ]
  },
  {
   "cell_type": "code",
   "execution_count": 8,
   "metadata": {},
   "outputs": [
    {
     "name": "stdout",
     "output_type": "stream",
     "text": [
      "Es impar\n"
     ]
    }
   ],
   "source": [
    "numero = int(input(\"Ingrese un numero:\"))\n",
    "\n",
    "if numero == 0:\n",
    "    print(\"Es cero\")\n",
    "elif numero % 2 == 0:\n",
    "    print(\"Es par\")\n",
    "else:\n",
    "    print(\"Es impar\")"
   ]
  },
  {
   "attachments": {},
   "cell_type": "markdown",
   "metadata": {},
   "source": [
    "### Uso de los operadores lógicos AND y OR"
   ]
  },
  {
   "attachments": {},
   "cell_type": "markdown",
   "metadata": {},
   "source": [
    "Un banco antes de conceder un préstamo, comprueba los ingresos del solicitante. Si los ingresos\n",
    "son superiores a B/. 12,000 anuales, el crédito se concede. Si los ingresos son iguales o inferiores a\n",
    "B/. 12,000 anuales pero superiores a B/. 10,000 y el cliente tiene máximo 2 hijos, el crédito se\n",
    "concede. También se le concede, si tiene ingresos entre B/. 8,000 y B/.10,000 anuales, pero no tiene\n",
    "hijos. Realizar un programa que realice la evaluación del cliente e imprima de acuerdo a la evaluación\n",
    "un mensaje que diga crédito aprobado o crédito no aprobado."
   ]
  },
  {
   "cell_type": "code",
   "execution_count": 1,
   "metadata": {},
   "outputs": [
    {
     "name": "stdout",
     "output_type": "stream",
     "text": [
      "Credito Aprobado\n"
     ]
    }
   ],
   "source": [
    "def credito_aprobado(ingreso, hijos):\n",
    "    if (ingreso >= 12000) or (10000 < ingreso < 12000 and hijos <= 2) or (8000 <= ingreso <= 10000 and hijos==0):\n",
    "        aprobado = 'Credito Aprobado'\n",
    "    else:\n",
    "        aprobado = 'Credito No Aprobado'\n",
    "    return aprobado\n",
    "\n",
    "ingreso = float(input('Ingrese el monto de su ingreso anual:'))\n",
    "hijos = int(input('Ingrese la cantidad de hijos que tiene:'))\n",
    "\n",
    "credito = credito_aprobado(ingreso, hijos)\n",
    "\n",
    "print(credito)"
   ]
  },
  {
   "cell_type": "code",
   "execution_count": 12,
   "metadata": {},
   "outputs": [
    {
     "name": "stdout",
     "output_type": "stream",
     "text": [
      "Por lo menos una de las condiciones no es cierta\n"
     ]
    }
   ],
   "source": [
    "condicion1 = True\n",
    "condicion2 = True\n",
    "condicion3 = False\n",
    "condicion4 = True\n",
    "\n",
    "if condicion1 and condicion2 and condicion3 and condicion4:\n",
    "    print(\"Todas las condiciones son ciertas!!!\")\n",
    "else:\n",
    "    print(\"Por lo menos una de las condiciones no es cierta\")   "
   ]
  },
  {
   "cell_type": "code",
   "execution_count": 13,
   "metadata": {},
   "outputs": [
    {
     "name": "stdout",
     "output_type": "stream",
     "text": [
      "Una de las condiciones es cierta\n"
     ]
    }
   ],
   "source": [
    "a = 10\n",
    "b = 8\n",
    "c = 2\n",
    "\n",
    "if (a > b) or (a < c):\n",
    "    print(\"Una de las condiciones es cierta\")"
   ]
  },
  {
   "cell_type": "code",
   "execution_count": 14,
   "metadata": {},
   "outputs": [
    {
     "name": "stdout",
     "output_type": "stream",
     "text": [
      "10 es divisible entre 3 o entre 5\n"
     ]
    }
   ],
   "source": [
    "a = 10\n",
    "\n",
    "if not a:\n",
    "    print(\"El valor booleano de a es True\")\n",
    "if not (a % 3 == 0 or a % 5 == 0):\n",
    "    print(\"10 no es divisible entre 3 o entre 5\")\n",
    "else:\n",
    "    print(\"10 es divisible entre 3 o entre 5\")"
   ]
  },
  {
   "attachments": {},
   "cell_type": "markdown",
   "metadata": {},
   "source": [
    "### Uso de match-case"
   ]
  },
  {
   "cell_type": "code",
   "execution_count": 15,
   "metadata": {},
   "outputs": [
    {
     "name": "stdout",
     "output_type": "stream",
     "text": [
      "El número introducido no corresponde a ningún día.\n"
     ]
    }
   ],
   "source": [
    "dia = int(input(\"Introduzca un número entre el 1 y el 7: \"))\n",
    "\n",
    "match dia:\n",
    "    case 1:\n",
    "        print(\"LUNES\")\n",
    "    case 2:\n",
    "        print(\"MARTES\")\n",
    "    case 3:\n",
    "        print(\"MIERCOLES\")\n",
    "    case 4:\n",
    "        print(\"JUEVES\")\n",
    "    case 5:\n",
    "        print(\"VIERNES\")\n",
    "    case 6:\n",
    "        print(\"SABADO\")\n",
    "    case 7:\n",
    "        print(\"DOMINGO\")\n",
    "    case _:\n",
    "        print(\"El número introducido no corresponde a ningún día.\")"
   ]
  },
  {
   "cell_type": "code",
   "execution_count": 20,
   "metadata": {},
   "outputs": [
    {
     "name": "stdout",
     "output_type": "stream",
     "text": [
      "Tiene 31 dias\n"
     ]
    }
   ],
   "source": [
    "año = int((input(\"Introduzca el año: \")))\n",
    "mes = input(\"Introduzca el mes:\")\n",
    "\n",
    "match mes.lower():\n",
    "    case \"enero\"|\"marzo\"|\"mayo\"|\"julio\"|\"agosto\"|\"octubre\"|\"diciembre\":\n",
    "        print(\"Tiene 31 dias\")\n",
    "    case \"abril\"|\"junio\"|\"septiembre\"|\"noviembre\":\n",
    "        print(\"Tiene 30 dias\")\n",
    "    case \"febrero\":\n",
    "        c = año % 4\n",
    "        if año % 4 == 0:\n",
    "            print(\"Tiene 29 dias\")\n",
    "        else:\n",
    "            print(\"Tiene 28 dias\")\n",
    "    case _:\n",
    "        print(\"Valor invalido\")"
   ]
  }
 ],
 "metadata": {
  "kernelspec": {
   "display_name": "Python 3",
   "language": "python",
   "name": "python3"
  },
  "language_info": {
   "codemirror_mode": {
    "name": "ipython",
    "version": 3
   },
   "file_extension": ".py",
   "mimetype": "text/x-python",
   "name": "python",
   "nbconvert_exporter": "python",
   "pygments_lexer": "ipython3",
   "version": "3.11.2"
  },
  "orig_nbformat": 4,
  "vscode": {
   "interpreter": {
    "hash": "367a3df738d52db5e028108a26a9b4e523bfcb434229588e5156d0c08f9d1c55"
   }
  }
 },
 "nbformat": 4,
 "nbformat_minor": 2
}
