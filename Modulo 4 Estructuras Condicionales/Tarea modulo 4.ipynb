{
 "cells": [
  {
   "attachments": {},
   "cell_type": "markdown",
   "metadata": {},
   "source": [
    "# TAREA\n",
    "Desarrolle los problemas que presentamos a continuación."
   ]
  },
  {
   "attachments": {},
   "cell_type": "markdown",
   "metadata": {},
   "source": [
    "### 1. Cree un programa que lea la cantidad de Kw que ha consumido una familia y el precio por Kw. Si la cantidad es mayor a 700, incremente el precio en 5% para el exceso de Kw sobre 700. Muestre el valor total a pagar."
   ]
  },
  {
   "cell_type": "code",
   "execution_count": 1,
   "metadata": {},
   "outputs": [
    {
     "name": "stdout",
     "output_type": "stream",
     "text": [
      "El valor a pagar es: 1499.4\n"
     ]
    }
   ],
   "source": [
    "kw_consumidos = float(input(\"Ingrese la cantidad de Kw consumidos: \")) #Pedir kw consumidos y precio por Kw\n",
    "precio_kw = float(input(\"Ingrese el precio por Kw: \"))\n",
    "\n",
    "if kw_consumidos > 700:\n",
    "    exceso_kw = kw_consumidos - 700 #exceso de kw\n",
    "    precio_kw += precio_kw * 0.05  # aumenta el precio en 5%\n",
    "    valor_pagar = (700 * precio_kw) + (exceso_kw * precio_kw) #valor a pagar con exceso\n",
    "else:\n",
    "    valor_pagar = kw_consumidos * precio_kw #valor a pagar\n",
    "\n",
    "print(f\"El valor a pagar es: {valor_pagar}\")"
   ]
  },
  {
   "attachments": {},
   "cell_type": "markdown",
   "metadata": {},
   "source": [
    "### 2. Crear un programa que lea el número de llantas de una compra y debe mostrar el monto a pagar. El almacén las vende con la siguiente política: Si se compran menos de 5 llantas, el precio unitario es 80. Si se compran 6 o 7, el precio unitario es 70, y si se compran más de 7 llantas, el precio unitario es 60."
   ]
  },
  {
   "cell_type": "code",
   "execution_count": 4,
   "metadata": {},
   "outputs": [
    {
     "name": "stdout",
     "output_type": "stream",
     "text": [
      "El monto total a pagar es: 420\n"
     ]
    }
   ],
   "source": [
    "cantidad = int(input(\"Ingrese la cantidad de llantas a comprar: \")) # Pedir al usuario la cantidad de llantas\n",
    "\n",
    "if cantidad < 5: # Determinar el precio unitario según la cantidad de llantas\n",
    "    precio_unitario = 80\n",
    "elif cantidad <= 7:\n",
    "    precio_unitario = 70\n",
    "else:\n",
    "    precio_unitario = 60\n",
    "\n",
    "monto_total = cantidad * precio_unitario # Calcular el monto total\n",
    "\n",
    "print(\"El monto total a pagar es:\", monto_total) # Mostrar el resultado"
   ]
  },
  {
   "attachments": {},
   "cell_type": "markdown",
   "metadata": {},
   "source": [
    "### 3. Lea la edad y el género y muestre el número de pulsaciones. El número de pulsaciones que debe tener una persona por cada 10 segundos de ejercicio aeróbico se calcula con la fórmula:\n",
    "### Género femenino (1): número de pulsaciones = (220 - edad en años)/10\n",
    "### Género masculino (2): número de pulsaciones = (210 - edad en años)/10"
   ]
  },
  {
   "cell_type": "code",
   "execution_count": 5,
   "metadata": {},
   "outputs": [
    {
     "name": "stdout",
     "output_type": "stream",
     "text": [
      "El número de pulsaciones es: 18.8\n"
     ]
    }
   ],
   "source": [
    "genero = int(input(\"Ingrese el género (1 para femenino, 2 para masculino): \")) # El programa primero solicita al usuario ingresar el género (1 para femenino y 2 para masculino) y la edad.\n",
    "edad = int(input(\"Ingrese la edad: \"))\n",
    "\n",
    "if genero == 1: # se calcula el número de pulsaciones\n",
    "    pulsaciones = (220 - edad) / 10\n",
    "else:\n",
    "    pulsaciones = (210 - edad) / 10\n",
    "\n",
    "print(\"El número de pulsaciones es:\", pulsaciones) #se muestra el resultado"
   ]
  },
  {
   "attachments": {},
   "cell_type": "markdown",
   "metadata": {},
   "source": [
    "### 4. El índice de masa corporal IMC de una persona se calcula con la fórmula IMC=P/T2 en donde P es el peso en Kg. y T es la talla en metros. Lea un valor de P y de T, calcule el IMC y muestre su estado según la siguiente tabla:\n",
    "| IMC | Estado |\n",
    "| --- | --- |\n",
    "| Menos de 18.5 | Desnutrido |\n",
    "| 18.5 a 25.5 | Peso Normal |\n",
    "| Más de 25.5 | Sobrepeso |"
   ]
  },
  {
   "cell_type": "code",
   "execution_count": 6,
   "metadata": {},
   "outputs": [
    {
     "name": "stdout",
     "output_type": "stream",
     "text": [
      "Su IMC es: 27.776910832995224\n",
      "Su estado es: Sobrepeso\n"
     ]
    }
   ],
   "source": [
    "P = float(input(\"Ingrese su peso en kg: \")) #Solicita al ususario ingresar su peso y altura en kg y m respectivamente\n",
    "T = float(input(\"Ingrese su altura en metros: \"))\n",
    "\n",
    "IMC = P / (T**2) #Calcula el IMC\n",
    "\n",
    "if IMC < 18.5: #Clasifica el IMC según la tabla brindada\n",
    "    estado = \"Desnutrido\"\n",
    "elif IMC >= 18.5 and IMC <= 25.5:\n",
    "    estado = \"Peso Normal\"\n",
    "else:\n",
    "    estado = \"Sobrepeso\"\n",
    "\n",
    "print(\"Su IMC es:\", IMC) # Muestra IMC y estado\n",
    "print(\"Su estado es:\", estado)"
   ]
  },
  {
   "attachments": {},
   "cell_type": "markdown",
   "metadata": {},
   "source": [
    "### 5. En un concurso hay tres jueces. La opinión del juez es 1 si está a favor y 0 si está en contra. Para que un participante pueda continuar en el concurso debe tener al menos dos votos favorables. Escriba un algoritmo que lea los votos de los tres jueces y muestre el resultado mediante un mensaje: CONTINUA o ELIMINADO. No sume votos. Debe compararlos."
   ]
  },
  {
   "cell_type": "code",
   "execution_count": 8,
   "metadata": {},
   "outputs": [
    {
     "name": "stdout",
     "output_type": "stream",
     "text": [
      "CONTINUA\n"
     ]
    }
   ],
   "source": [
    "voto1 = int(input(\"Ingrese el voto del primer juez (1 si está a favor, 0 si está en contra): \"))\n",
    "voto2 = int(input(\"Ingrese el voto del segundo juez (1 si está a favor, 0 si está en contra): \"))\n",
    "voto3 = int(input(\"Ingrese el voto del tercer juez (1 si está a favor, 0 si está en contra): \"))\n",
    "\n",
    "if (voto1 == 1 and voto2 == 1) or (voto1 == 1 and voto3 == 1) or (voto2 == 1 and voto3 == 1):\n",
    "    print(\"CONTINUA\")\n",
    "else:\n",
    "    print(\"ELIMINADO\")"
   ]
  }
 ],
 "metadata": {
  "kernelspec": {
   "display_name": "Python 3",
   "language": "python",
   "name": "python3"
  },
  "language_info": {
   "codemirror_mode": {
    "name": "ipython",
    "version": 3
   },
   "file_extension": ".py",
   "mimetype": "text/x-python",
   "name": "python",
   "nbconvert_exporter": "python",
   "pygments_lexer": "ipython3",
   "version": "3.11.2"
  },
  "orig_nbformat": 4,
  "vscode": {
   "interpreter": {
    "hash": "367a3df738d52db5e028108a26a9b4e523bfcb434229588e5156d0c08f9d1c55"
   }
  }
 },
 "nbformat": 4,
 "nbformat_minor": 2
}
