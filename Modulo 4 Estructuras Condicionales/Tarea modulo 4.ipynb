{
 "cells": [
  {
   "attachments": {},
   "cell_type": "markdown",
   "metadata": {},
   "source": [
    "# TAREA\n",
    "Desarrolle los problemas que presentamos a continuación."
   ]
  },
  {
   "attachments": {},
   "cell_type": "markdown",
   "metadata": {},
   "source": [
    "### 1. Cree un programa que lea la cantidad de Kw que ha consumido una familia y el precio por Kw. Si la cantidad es mayor a 700, incremente el precio en 5% para el exceso de Kw sobre 700. Muestre el valor total a pagar."
   ]
  },
  {
   "attachments": {},
   "cell_type": "markdown",
   "metadata": {},
   "source": [
    "### 2. Crear un programa que lea el número de llantas de una compra y debe mostrar el monto a pagar. El almacén las vende con la siguiente política: Si se compran menos de 5 llantas, el precio unitario es 80. Si se compran 6 o 7, el precio unitario es 70, y si se compran más de 7 llantas, el precio unitario es 60."
   ]
  },
  {
   "attachments": {},
   "cell_type": "markdown",
   "metadata": {},
   "source": [
    "### 3. El número de pulsaciones que debe tener una persona por cada 10 segundos de ejercicio aeróbico se calcula con la fórmula:\n",
    "### Género femenino (1): número de pulsaciones = (220 - edad en años)/10\n",
    "### Género masculino (2): número de pulsaciones = (210 - edad en años)/10"
   ]
  },
  {
   "attachments": {},
   "cell_type": "markdown",
   "metadata": {},
   "source": [
    "### 4. El índice de masa corporal IMC de una persona se calcula con la fórmula IMC=P/T2 en donde P es el peso en Kg. y T es la talla en metros. Lea un valor de P y de T, calcule el IMC y muestre su estado según la siguiente tabla:\n",
    "| IMC | Estado |\n",
    "| --- | --- |\n",
    "| Menos de 18.5 | Desnutrido |\n",
    "| 18.5 a 25.5 | Peso Normal |\n",
    "| Más de 25.5 | Sobrepeso |"
   ]
  },
  {
   "attachments": {},
   "cell_type": "markdown",
   "metadata": {},
   "source": [
    "### 5. En un concurso hay tres jueces. La opinión del juez es 1 si está a favor y 0 si está en contra. Para que un participante pueda continuar en el concurso debe tener al menos dos votos favorables. Escriba un algoritmo que lea los votos de los tres jueces y muestre el resultado mediante un mensaje: CONTINUA o ELIMINADO. No sume votos. Debe compararlos."
   ]
  }
 ],
 "metadata": {
  "kernelspec": {
   "display_name": "Python 3",
   "language": "python",
   "name": "python3"
  },
  "language_info": {
   "name": "python",
   "version": "3.11.2"
  },
  "orig_nbformat": 4,
  "vscode": {
   "interpreter": {
    "hash": "367a3df738d52db5e028108a26a9b4e523bfcb434229588e5156d0c08f9d1c55"
   }
  }
 },
 "nbformat": 4,
 "nbformat_minor": 2
}
