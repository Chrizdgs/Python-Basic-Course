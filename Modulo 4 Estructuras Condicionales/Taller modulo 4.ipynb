{
 "cells": [
  {
   "attachments": {},
   "cell_type": "markdown",
   "metadata": {},
   "source": [
    "# TALLER\n",
    "Desarrolle los problemas que presentamos a continuación."
   ]
  },
  {
   "attachments": {},
   "cell_type": "markdown",
   "metadata": {},
   "source": [
    "### 1. Cree un programa en python para calcular el valor total que una persona debe pagar por la compra de llantas en un almacén que tiene la siguiente promoción: Si la cantidad de llantas comprada es mayor a 4, el precio unitario tiene un descuento de 10%. El programa debe ingresar como datos la cantidad de llantas y el precio inicial de cada llanta. Presentar el importe a pagar"
   ]
  },
  {
   "cell_type": "code",
   "execution_count": 1,
   "metadata": {},
   "outputs": [
    {
     "name": "stdout",
     "output_type": "stream",
     "text": [
      "El importe a pagar es: $ 181.35\n"
     ]
    }
   ],
   "source": [
    "# Programa para calcular el valor total a pagar por la compra de llantas\n",
    "def calcular_importe(cantidad_llantas, precio_unitario):\n",
    "  descuento = 0 # Se calcula el descuento si la cantidad de llantas es mayor a 4\n",
    "  if cantidad_llantas > 4:\n",
    "    descuento = precio_unitario * 0.1\n",
    "  precio_total = (precio_unitario - descuento) * cantidad_llantas # Se calcula el precio total a pagar\n",
    "  return str(round(precio_total,2))\n",
    "\n",
    "cantidad_llantas = int(input(\"Ingrese la cantidad de llantas a comprar: \")) # Se solicita la cantidad de llantas a comprar\n",
    "precio_unitario = float(input(\"Ingrese el precio inicial de cada llanta: \")) # Se solicita el precio inicial de cada llanta\n",
    "\n",
    "importe_a_pagar = calcular_importe(cantidad_llantas, precio_unitario)\n",
    "\n",
    "print(\"El importe a pagar es: $\", importe_a_pagar)"
   ]
  },
  {
   "attachments": {},
   "cell_type": "markdown",
   "metadata": {},
   "source": [
    "### 2. Crear un programa que le permita calcular el pago semanal a un obrero. Para este problema se consideran los siguientes datos: horas trabajadas, tarifa por hora y descuentos. Si la cantidad de horas trabajadas en la semana es mayor a 40, se le debe pagar las horas en exceso con una bonificación de 50% adicional al pago normal."
   ]
  },
  {
   "cell_type": "code",
   "execution_count": 2,
   "metadata": {},
   "outputs": [
    {
     "name": "stdout",
     "output_type": "stream",
     "text": [
      "El pago total es de: $379.93\n"
     ]
    }
   ],
   "source": [
    "def pago_semanal(horas_trabajadas, tarifa_por_hora, descuentos):\n",
    "    pago_normal = horas_trabajadas * tarifa_por_hora # Calculando el pago normal\n",
    "    if horas_trabajadas > 40: # Verificando si el obrero trabajó más de 40 horas\n",
    "        horas_extras = horas_trabajadas - 40\n",
    "        bonificación = tarifa_por_hora * 0.5\n",
    "        pago_extra = horas_extras * bonificación\n",
    "        pago_normal += pago_extra\n",
    "    pago_total = pago_normal - descuentos # Restando los descuentos\n",
    "    return pago_total\n",
    "\n",
    "horas_trabajadas = float(input(\"Ingrese la cantidad de horas trabajadas en la semana: \")) # Pidiendo al usuario las horas trabajadas\n",
    "tarifa_por_hora = float(input(\"Ingrese la tarifa por hora: \")) # Pidiendo al usuario la tarifa por hora\n",
    "descuentos = float(input(\"Ingrese los descuentos: \")) # Pidiendo al usuario los descuentos\n",
    "\n",
    "pago_semanalf = pago_semanal(horas_trabajadas, tarifa_por_hora, descuentos)\n",
    "\n",
    "print(\"El pago total es de: $\" + str(pago_semanalf)) # Mostrando el pago total"
   ]
  },
  {
   "attachments": {},
   "cell_type": "markdown",
   "metadata": {},
   "source": [
    "### 3. Durante el semestre un estudiante debe realizar tres evaluaciones. Cada evaluación tiene una calificación y la nota total que recibe el estudiante es la suma de las dos mejores calificaciones. Escribir un programa que lea las tres calificaciones y determine cual es la calificación total que recibirá el estudiante."
   ]
  },
  {
   "cell_type": "code",
   "execution_count": 3,
   "metadata": {},
   "outputs": [
    {
     "name": "stdout",
     "output_type": "stream",
     "text": [
      "La calificación total es: 88.0\n"
     ]
    }
   ],
   "source": [
    "def calificacion_total(calificacion1, calificacion2, calificacion3):\n",
    "    calificaciones = [calificacion1, calificacion2, calificacion3] \n",
    "    calificaciones.sort(reverse=True) # Ordenar las calificaciones de mayor a menor\n",
    "    \n",
    "    calificacion_total = (calificaciones[0] + calificaciones[1])/2 # Sumar las dos mejores calificaciones\n",
    "    return calificacion_total\n",
    "\n",
    "# Leer las calificaciones\n",
    "calificacion1 = float(input(\"Ingrese la calificación 1: \"))\n",
    "calificacion2 = float(input(\"Ingrese la calificación 2: \"))\n",
    "calificacion3 = float(input(\"Ingrese la calificación 3: \"))\n",
    "\n",
    "calificacion_totalf = calificacion_total(calificacion1, calificacion2, calificacion3)\n",
    "print(\"La calificación total es:\", calificacion_totalf)"
   ]
  },
  {
   "attachments": {},
   "cell_type": "markdown",
   "metadata": {},
   "source": [
    "### 4. Cree un programa que ayude a tomar la siguiente decisión para pagar una cuenta en un restaurante: Si la cuenta es menor a $50 pago en efectivo. Sinó, si es de $50 hasta $100 pagaré con el celular(dinero electrónico). Pero si es mayor a 100 hasta $200, usaré la tarjeta de débito. Caso contrario, pagaré con la tarjeta de crédito."
   ]
  },
  {
   "cell_type": "code",
   "execution_count": 5,
   "metadata": {},
   "outputs": [
    {
     "name": "stdout",
     "output_type": "stream",
     "text": [
      "La forma de pago es: Tarjeta de débito\n"
     ]
    }
   ],
   "source": [
    "def forma_de_pago(cuenta): # Tomar la decisión según el monto de la cuenta\n",
    "    if cuenta < 50:\n",
    "        forma_pago = \"Efectivo\"\n",
    "    elif cuenta >=50 and cuenta <= 100:\n",
    "        forma_pago = \"Celular (dinero electrónico)\"\n",
    "    elif cuenta > 100 and cuenta <= 200:\n",
    "        forma_pago = \"Tarjeta de débito\"\n",
    "    else:\n",
    "        forma_pago = \"Tarjeta de crédito\"\n",
    "    return forma_pago\n",
    "\n",
    "cuenta = float(input(\"Introduce la cantidad de la cuenta: \")) # Pedir al usuario que ingrese la cantidad de la cuenta\n",
    "\n",
    "print(\"La forma de pago es:\", forma_de_pago(cuenta)) # Mostrar la forma de pago"
   ]
  },
  {
   "attachments": {},
   "cell_type": "markdown",
   "metadata": {},
   "source": [
    "### 5. Se requiere un programa para un restaurante el programa debe leer el tamaño de la pizza y el número de ingredientes adicionales y debe mostrar el precio que debe pagar.\n",
    "| Tamaño | Precio |\n",
    "| --- | --- |\n",
    "| 1 | 5.00 |\n",
    "| 2 | 9.00 |\n",
    "| 3 | 20.00 |\n",
    "### Cada ingrediente adicional cuesta $1.50"
   ]
  },
  {
   "cell_type": "code",
   "execution_count": 6,
   "metadata": {},
   "outputs": [
    {
     "name": "stdout",
     "output_type": "stream",
     "text": [
      "El precio total a pagar es: $32.0\n"
     ]
    }
   ],
   "source": [
    "size_1 = 5 # Se definen los valores iniciales para los tamaños de la pizza\n",
    "size_2 = 9\n",
    "size_3 = 20\n",
    "\n",
    "add_ingridient = 1.5 # Se definen el costo por ingrediente adicional\n",
    "\n",
    "def precio_pizza(pizza_size, ingredientes): \n",
    "    match pizza_size: # Se establece el precio según el tamaño elegido\n",
    "        case 1:\n",
    "            precio = size_1\n",
    "        case 2:\n",
    "            precio = size_2\n",
    "        case 3:\n",
    "            precio = size_3\n",
    "    precio += ingredientes * add_ingridient # Se aumenta el precio según la cantidad de ingredientes adicionales\n",
    "    return precio\n",
    "\n",
    "pizza_size = int(input(\"Ingrese el tamaño de su pizza (1, 2 o 3): \")) # Se pide al usuario que elija el tamaño de la pizza\n",
    "ingredientes = int(input(\"¿Cuántos ingredientes adicionales desea?: \")) # Se pide al usuario que ingrese la cantidad de ingredientes adicionales\n",
    "\n",
    "print(\"El precio total a pagar es: $\" + str(precio_pizza(pizza_size, ingredientes))) # Se muestra el precio total a pagar"
   ]
  }
 ],
 "metadata": {
  "kernelspec": {
   "display_name": "Python 3",
   "language": "python",
   "name": "python3"
  },
  "language_info": {
   "codemirror_mode": {
    "name": "ipython",
    "version": 3
   },
   "file_extension": ".py",
   "mimetype": "text/x-python",
   "name": "python",
   "nbconvert_exporter": "python",
   "pygments_lexer": "ipython3",
   "version": "3.11.2"
  },
  "orig_nbformat": 4,
  "vscode": {
   "interpreter": {
    "hash": "367a3df738d52db5e028108a26a9b4e523bfcb434229588e5156d0c08f9d1c55"
   }
  }
 },
 "nbformat": 4,
 "nbformat_minor": 2
}
